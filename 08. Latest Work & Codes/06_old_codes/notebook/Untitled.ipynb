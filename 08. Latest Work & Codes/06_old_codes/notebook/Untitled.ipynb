{
 "cells": [
  {
   "cell_type": "code",
   "execution_count": 3,
   "metadata": {},
   "outputs": [
    {
     "name": "stdin",
     "output_type": "stream",
     "text": [
      " 4 2 0 3 2 5\n"
     ]
    },
    {
     "name": "stdout",
     "output_type": "stream",
     "text": [
      "9\n"
     ]
    }
   ],
   "source": [
    "def fun(arr, n) :\n",
    "    res = 0\n",
    "    \n",
    "    for i in range(1, n - 1) :\n",
    "        l = arr[i]\n",
    "        for j in range(i):\n",
    "            l = max(l, arr[j])\n",
    "            r = arr[i]\n",
    "            \n",
    "        for j in range(i + 1 , n) :\n",
    "            r = max(r, arr[j])\n",
    "            \n",
    "        res = res + (min(l, r) - arr[i])\n",
    "    \n",
    "    return res;\n",
    "\n",
    "arr = list(map(int, input().split(' ')))\n",
    "\n",
    "print(fun(arr, len(arr)))"
   ]
  },
  {
   "cell_type": "code",
   "execution_count": 1,
   "metadata": {},
   "outputs": [],
   "source": [
    "link = \"https://1xbet.whoscored.com/Matches/1495332/Live/Italy-Serie-A-2020-2021-Verona-Roma\""
   ]
  },
  {
   "cell_type": "code",
   "execution_count": 2,
   "metadata": {},
   "outputs": [],
   "source": [
    "from selenium import webdriver\n",
    "import json"
   ]
  },
  {
   "cell_type": "code",
   "execution_count": 3,
   "metadata": {},
   "outputs": [],
   "source": [
    "options = webdriver.ChromeOptions()\n",
    "options.add_experimental_option('excludeSwitches', ['enable-logging'])\n",
    "\n",
    "# ready the chrome-drivers\n",
    "driver = webdriver.Chrome(\"C:/Chrome_Drivers/chromedriver\", options=options)\n",
    "\n",
    "# give the link\n",
    "driver.get(link)\n",
    "\n",
    "# fetch the script tag\n",
    "element = driver.find_element_by_xpath('//*[@id=\"layout-wrapper\"]/script[1]')\n",
    "\n",
    "# fetch the code inside script tag\n",
    "script_content = element.get_attribute('innerHTML')\n",
    "\n",
    "# format the string\n",
    "script_ls = script_content.split(sep=\"  \")\n",
    "script_ls = list(filter(None, script_ls))\n",
    "script_ls = [name for name in script_ls if name.strip()]\n",
    "dictstring = script_ls[2][17:-2]\n",
    "\n",
    "# get final content\n",
    "content = json.loads(dictstring)\n",
    "\n",
    "# close the driver\n",
    "driver.close()"
   ]
  },
  {
   "cell_type": "code",
   "execution_count": 4,
   "metadata": {},
   "outputs": [
    {
     "data": {
      "text/plain": [
       "dict_keys(['playerIdNameDictionary', 'periodMinuteLimits', 'timeStamp', 'attendance', 'venueName', 'referee', 'weatherCode', 'elapsed', 'startTime', 'startDate', 'score', 'htScore', 'ftScore', 'etScore', 'pkScore', 'statusCode', 'periodCode', 'home', 'away', 'maxMinute', 'minuteExpanded', 'maxPeriod', 'expandedMinutes', 'expandedMaxMinute', 'periodEndMinutes', 'commonEvents', 'events', 'timeoutInSeconds'])"
      ]
     },
     "execution_count": 4,
     "metadata": {},
     "output_type": "execute_result"
    }
   ],
   "source": [
    "content.keys()"
   ]
  },
  {
   "cell_type": "code",
   "execution_count": 6,
   "metadata": {},
   "outputs": [
    {
     "data": {
      "text/plain": [
       "(76, 'Verona')"
      ]
     },
     "execution_count": 6,
     "metadata": {},
     "output_type": "execute_result"
    }
   ],
   "source": [
    "content[\"home\"][\"teamId\"], content[\"home\"][\"name\"]"
   ]
  }
 ],
 "metadata": {
  "kernelspec": {
   "display_name": "Python 3",
   "language": "python",
   "name": "python3"
  },
  "language_info": {
   "codemirror_mode": {
    "name": "ipython",
    "version": 3
   },
   "file_extension": ".py",
   "mimetype": "text/x-python",
   "name": "python",
   "nbconvert_exporter": "python",
   "pygments_lexer": "ipython3",
   "version": "3.8.8"
  }
 },
 "nbformat": 4,
 "nbformat_minor": 4
}
